{
 "metadata": {
  "language_info": {
   "codemirror_mode": {
    "name": "ipython",
    "version": 3
   },
   "file_extension": ".py",
   "mimetype": "text/x-python",
   "name": "python",
   "nbconvert_exporter": "python",
   "pygments_lexer": "ipython3",
   "version": "3.9.2"
  },
  "orig_nbformat": 2,
  "kernelspec": {
   "name": "python392jvsc74a57bd06cbb41571b20674ffee661aa3e8e8b885ec56c497d88337beffcf280b455b3f0",
   "display_name": "Python 3.9.2 64-bit"
  },
  "metadata": {
   "interpreter": {
    "hash": "6cbb41571b20674ffee661aa3e8e8b885ec56c497d88337beffcf280b455b3f0"
   }
  }
 },
 "nbformat": 4,
 "nbformat_minor": 2,
 "cells": [
  {
   "cell_type": "code",
   "execution_count": 7,
   "metadata": {},
   "outputs": [
    {
     "output_type": "stream",
     "name": "stdout",
     "text": [
      "[12.0, 23.0]\n17.5\n"
     ]
    }
   ],
   "source": [
    "\n",
    "x=float(input('enter number: '))\n",
    "y=float(input('enter number: '))\n",
    "t=list()\n",
    "t.append(x)\n",
    "t.append(y)\n",
    "average=sum(t)/len(t)\n",
    "print(t)\n",
    "print(average)\n",
    "\n",
    "\n",
    "\n"
   ]
  },
  {
   "cell_type": "code",
   "execution_count": 11,
   "metadata": {},
   "outputs": [
    {
     "output_type": "stream",
     "name": "stdout",
     "text": [
      "result list data:  [30.0, 90.0, 89.0, 38.0, 29.0, 49.0]\nresult sum data:  325.0\nresult length data:  6\nresult average data:  54.166666666666664\n"
     ]
    }
   ],
   "source": [
    "# jawaban kuis structur data\n",
    "data=[]\n",
    "while True :\n",
    "    inputdata=input('enter number: ')\n",
    "    if inputdata=='done':\n",
    "        break\n",
    "    input_conver=float(inputdata)\n",
    "    data.append(input_conver)\n",
    "\n",
    "result_sum_data=sum(data)\n",
    "result_len_data=len(data)\n",
    "result_average_data=result_sum_data/result_len_data\n",
    "print('result list data: ',data)\n",
    "print('result sum data: ',result_sum_data)\n",
    "print('result length data: ',result_len_data)\n",
    "print('result average data: ',result_average_data)\n",
    "\n"
   ]
  },
  {
   "cell_type": "code",
   "execution_count": null,
   "metadata": {},
   "outputs": [],
   "source": []
  }
 ]
}