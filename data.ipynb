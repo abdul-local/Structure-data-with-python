{
 "metadata": {
  "language_info": {
   "codemirror_mode": {
    "name": "ipython",
    "version": 3
   },
   "file_extension": ".py",
   "mimetype": "text/x-python",
   "name": "python",
   "nbconvert_exporter": "python",
   "pygments_lexer": "ipython3",
   "version": "3.9.2"
  },
  "orig_nbformat": 2,
  "kernelspec": {
   "name": "python392jvsc74a57bd06cbb41571b20674ffee661aa3e8e8b885ec56c497d88337beffcf280b455b3f0",
   "display_name": "Python 3.9.2 64-bit"
  },
  "metadata": {
   "interpreter": {
    "hash": "6cbb41571b20674ffee661aa3e8e8b885ec56c497d88337beffcf280b455b3f0"
   }
  }
 },
 "nbformat": 4,
 "nbformat_minor": 2,
 "cells": [
  {
   "cell_type": "code",
   "execution_count": 3,
   "metadata": {},
   "outputs": [
    {
     "output_type": "stream",
     "name": "stdout",
     "text": [
      "g\n6\n11\n"
     ]
    }
   ],
   "source": [
    "ap='google'\n",
    "string='not aviable'\n",
    "\n",
    "print(ap[0])\n",
    "\n",
    "print(len(ap))\n",
    "print(len(string))"
   ]
  },
  {
   "cell_type": "code",
   "execution_count": 11,
   "metadata": {},
   "outputs": [
    {
     "output_type": "stream",
     "name": "stdout",
     "text": [
      "0 h\n1 e\n2 l\n3 l\n4 o\n"
     ]
    }
   ],
   "source": [
    "r='hello'\n",
    "for i,j in enumerate(r):\n",
    "    print(i,j)"
   ]
  },
  {
   "cell_type": "code",
   "execution_count": 14,
   "metadata": {},
   "outputs": [
    {
     "output_type": "stream",
     "name": "stdout",
     "text": [
      "a\nb\nd\nu\nl\n"
     ]
    }
   ],
   "source": [
    "name='abdul'\n",
    "count=0\n",
    "for i in range(count, len(name)):\n",
    "    print(name[i])"
   ]
  },
  {
   "cell_type": "code",
   "execution_count": null,
   "metadata": {},
   "outputs": [],
   "source": []
  },
  {
   "cell_type": "code",
   "execution_count": 5,
   "metadata": {},
   "outputs": [
    {
     "output_type": "stream",
     "name": "stdout",
     "text": [
      "2\n"
     ]
    }
   ],
   "source": [
    "#ambil huru g saja\n",
    "data=[]\n",
    "for d in ap:\n",
    "    # print(d)\n",
    "    if d =='g':\n",
    "      data.append(d)\n",
    "      \n",
    "print(len(data))\n",
    "      \n"
   ]
  },
  {
   "cell_type": "code",
   "execution_count": 16,
   "metadata": {},
   "outputs": [
    {
     "output_type": "stream",
     "name": "stdout",
     "text": [
      "lu\n"
     ]
    }
   ],
   "source": [
    "# string slicing \n",
    "\n",
    "# revers string\n",
    "'''revers string '''\n",
    "# -1 menandakan perulangan dari belakang\n",
    "print(name[len(name):2:-1])\n"
   ]
  },
  {
   "cell_type": "code",
   "execution_count": 18,
   "metadata": {},
   "outputs": [
    {
     "output_type": "stream",
     "name": "stdout",
     "text": [
      "ab\n"
     ]
    }
   ],
   "source": [
    "print(name[0:2])"
   ]
  },
  {
   "cell_type": "code",
   "execution_count": 19,
   "metadata": {},
   "outputs": [
    {
     "output_type": "stream",
     "name": "stdout",
     "text": [
      "I LOVE YOU\n"
     ]
    }
   ],
   "source": [
    "# String library fungction \n",
    "''' lower()=> convert string to lower case\n",
    "    upper()=> convert string to upper case \n",
    "    isupper()=> check string whether its upper or not\n",
    "    islower()=> check string whether its lower or not \n",
    "\n",
    " '''\n",
    "in_to_eng='I Love you'\n",
    "print(in_to_eng.upper())"
   ]
  },
  {
   "cell_type": "code",
   "execution_count": 20,
   "metadata": {},
   "outputs": [
    {
     "output_type": "stream",
     "name": "stdout",
     "text": [
      "i love you\n"
     ]
    }
   ],
   "source": [
    "print(in_to_eng.lower())"
   ]
  },
  {
   "cell_type": "code",
   "execution_count": 24,
   "metadata": {},
   "outputs": [
    {
     "output_type": "stream",
     "name": "stdout",
     "text": [
      "True\n"
     ]
    }
   ],
   "source": [
    "print(in_to_eng.islower())"
   ]
  },
  {
   "cell_type": "code",
   "execution_count": 26,
   "metadata": {},
   "outputs": [
    {
     "output_type": "stream",
     "name": "stdout",
     "text": [
      "False\n"
     ]
    }
   ],
   "source": [
    "\n",
    "print(in_to_eng.isupper())"
   ]
  },
  {
   "cell_type": "code",
   "execution_count": 27,
   "metadata": {},
   "outputs": [
    {
     "output_type": "stream",
     "name": "stdout",
     "text": [
      "big elephant\n"
     ]
    }
   ],
   "source": [
    "r=' big elephant '\n",
    "print(r.strip())"
   ]
  },
  {
   "cell_type": "code",
   "execution_count": 30,
   "metadata": {},
   "outputs": [
    {
     "output_type": "stream",
     "name": "stdout",
     "text": [
      " big elephant\nbig elephant\n"
     ]
    }
   ],
   "source": [
    "print(r)\n",
    "print(r.strip())"
   ]
  },
  {
   "cell_type": "code",
   "execution_count": 38,
   "metadata": {},
   "outputs": [
    {
     "output_type": "stream",
     "name": "stdout",
     "text": [
      "4\n10\n"
     ]
    }
   ],
   "source": [
    "#parsing and extracting\n",
    "data='from abdul@gmail.com  fry 7 jun'\n",
    "atpos=data.find(' ')\n",
    "print(atpos)\n",
    "spost=data.find('@',atpos)\n",
    "print(spost)"
   ]
  },
  {
   "cell_type": "code",
   "execution_count": 39,
   "metadata": {},
   "outputs": [
    {
     "output_type": "stream",
     "name": "stdout",
     "text": [
      " abdul\n"
     ]
    }
   ],
   "source": [
    "print(data[atpos:spost])"
   ]
  },
  {
   "cell_type": "code",
   "execution_count": 5,
   "metadata": {},
   "outputs": [
    {
     "output_type": "stream",
     "name": "stdout",
     "text": [
      "no of are line 1\nno of are line 2\nno of are line 3\n"
     ]
    }
   ],
   "source": [
    "data=open('meta.txt')\n",
    "count=0\n",
    "for i in data:\n",
    "    count+=1\n",
    "    print('no of are line', count)\n"
   ]
  },
  {
   "cell_type": "code",
   "execution_count": 7,
   "metadata": {},
   "outputs": [
    {
     "output_type": "stream",
     "name": "stdout",
     "text": [
      "27\ndata \nstructur\nusing\n"
     ]
    }
   ],
   "source": [
    "data1=open('meta.txt')\n",
    "input=data1.read()\n",
    "print(len(input))\n",
    "print(input[:20])"
   ]
  },
  {
   "cell_type": "code",
   "execution_count": 16,
   "metadata": {},
   "outputs": [
    {
     "output_type": "stream",
     "name": "stdout",
     "text": [
      "hello mr abdul, I learning structur data with python\n"
     ]
    }
   ],
   "source": [
    "data2=open('text.txt')\n",
    "for i in data2:\n",
    "    i=i.rstrip()\n",
    "    if i.startswith(\"data\"):\n",
    "        continue\n",
    "    print(i)\n",
    "\n",
    "\n",
    "\n"
   ]
  },
  {
   "cell_type": "code",
   "execution_count": 2,
   "metadata": {},
   "outputs": [
    {
     "output_type": "stream",
     "name": "stdout",
     "text": [
      "['abdul', 'hamzan', 'electro', 20]\n"
     ]
    }
   ],
   "source": [
    "#list\n",
    "list_data=['abdul','hamzan','electro',20]\n",
    "print(list_data)"
   ]
  },
  {
   "cell_type": "code",
   "execution_count": 3,
   "metadata": {},
   "outputs": [
    {
     "output_type": "stream",
     "name": "stdout",
     "text": [
      "abdul\nhamzan\nelectro\n20\n"
     ]
    }
   ],
   "source": [
    "for i in list_data:\n",
    "    print(i)"
   ]
  },
  {
   "cell_type": "code",
   "execution_count": 4,
   "metadata": {},
   "outputs": [
    {
     "output_type": "stream",
     "name": "stdout",
     "text": [
      "['abdul update', 'hamzan', 'electro', 20]\n"
     ]
    }
   ],
   "source": [
    "list_data[0]='abdul update'\n",
    "print(list_data)"
   ]
  },
  {
   "cell_type": "code",
   "execution_count": 5,
   "metadata": {},
   "outputs": [
    {
     "output_type": "stream",
     "name": "stdout",
     "text": [
      "4\n"
     ]
    }
   ],
   "source": [
    "print(len(list_data))"
   ]
  },
  {
   "cell_type": "code",
   "execution_count": 7,
   "metadata": {},
   "outputs": [
    {
     "output_type": "stream",
     "name": "stdout",
     "text": [
      "range(0, 4)\n"
     ]
    }
   ],
   "source": [
    "print(range(0,len(list_data)))"
   ]
  },
  {
   "cell_type": "code",
   "execution_count": 8,
   "metadata": {},
   "outputs": [
    {
     "output_type": "stream",
     "name": "stdout",
     "text": [
      "0\n1\n2\n3\n"
     ]
    }
   ],
   "source": [
    "for i in range(len(list_data)):\n",
    "    print(i)"
   ]
  },
  {
   "cell_type": "code",
   "execution_count": 19,
   "metadata": {},
   "outputs": [
    {
     "output_type": "stream",
     "name": "stdout",
     "text": [
      "['orange', 'manggo']\n"
     ]
    }
   ],
   "source": [
    "listdata=['orange','manggo','strobery']\n",
    "print(listdata[:2])"
   ]
  },
  {
   "cell_type": "code",
   "execution_count": 24,
   "metadata": {},
   "outputs": [
    {
     "output_type": "stream",
     "name": "stdout",
     "text": [
      "['abdul', 'nasi', 'makanan', 'terong']\n"
     ]
    }
   ],
   "source": [
    "t=list()\n",
    "t.append('abdul')\n",
    "t.append('nasi')\n",
    "t.append('makanan')\n",
    "t.append('terong')\n",
    "print(t)"
   ]
  },
  {
   "cell_type": "code",
   "execution_count": 25,
   "metadata": {},
   "outputs": [
    {
     "output_type": "stream",
     "name": "stdout",
     "text": [
      "['abdul', 'makanan', 'nasi', 'terong']\n"
     ]
    }
   ],
   "source": [
    "print(sorted(t))"
   ]
  },
  {
   "cell_type": "code",
   "execution_count": null,
   "metadata": {},
   "outputs": [],
   "source": []
  }
 ]
}