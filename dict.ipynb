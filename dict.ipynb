{
 "metadata": {
  "language_info": {
   "codemirror_mode": {
    "name": "ipython",
    "version": 3
   },
   "file_extension": ".py",
   "mimetype": "text/x-python",
   "name": "python",
   "nbconvert_exporter": "python",
   "pygments_lexer": "ipython3",
   "version": "3.9.2"
  },
  "orig_nbformat": 2,
  "kernelspec": {
   "name": "python392jvsc74a57bd06cbb41571b20674ffee661aa3e8e8b885ec56c497d88337beffcf280b455b3f0",
   "display_name": "Python 3.9.2 64-bit"
  },
  "metadata": {
   "interpreter": {
    "hash": "6cbb41571b20674ffee661aa3e8e8b885ec56c497d88337beffcf280b455b3f0"
   }
  }
 },
 "nbformat": 4,
 "nbformat_minor": 2,
 "cells": [
  {
   "cell_type": "code",
   "execution_count": 2,
   "metadata": {},
   "outputs": [
    {
     "output_type": "stream",
     "name": "stdout",
     "text": [
      "{'age': 24, 'name': 'abdul', 'pekerjaan': 'software engineer', 'age_tambah': 34}\n"
     ]
    }
   ],
   "source": [
    "bag=dict()\n",
    "bag['age']=24\n",
    "bag['name']='abdul'\n",
    "bag['pekerjaan']='software engineer'\n",
    "\n",
    "bag['age_tambah']=bag['age']+10\n",
    "\n",
    "print(bag)"
   ]
  },
  {
   "cell_type": "code",
   "execution_count": 5,
   "metadata": {},
   "outputs": [
    {
     "output_type": "stream",
     "name": "stdout",
     "text": [
      "dict_keys(['age', 'name', 'pekerjaan', 'age_tambah'])\ndict_values([24, 'abdul', 'software engineer', 34])\n"
     ]
    }
   ],
   "source": [
    "print(bag.keys())\n",
    "print(bag.values())"
   ]
  },
  {
   "cell_type": "code",
   "execution_count": 10,
   "metadata": {},
   "outputs": [
    {
     "output_type": "stream",
     "name": "stdout",
     "text": [
      "age 24\nname abdul\npekerjaan software engineer\nage_tambah 34\n"
     ]
    }
   ],
   "source": [
    "for i,j in bag.items():\n",
    "    print(i,j)"
   ]
  },
  {
   "cell_type": "code",
   "execution_count": null,
   "metadata": {},
   "outputs": [],
   "source": []
  }
 ]
}